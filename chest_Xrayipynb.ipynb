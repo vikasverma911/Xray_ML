{
  "nbformat": 4,
  "nbformat_minor": 0,
  "metadata": {
    "colab": {
      "name": "chest_Xrayipynb",
      "provenance": [],
      "mount_file_id": "1erxEJh0NLEf2RsxSTjvM03EwnzXDptcp",
      "authorship_tag": "ABX9TyMDC1TCr9dYyV6l2cL60ygg",
      "include_colab_link": true
    },
    "kernelspec": {
      "name": "python3",
      "display_name": "Python 3"
    },
    "language_info": {
      "name": "python"
    }
  },
  "cells": [
    {
      "cell_type": "markdown",
      "metadata": {
        "id": "view-in-github",
        "colab_type": "text"
      },
      "source": [
        "<a href=\"https://colab.research.google.com/github/vikasverma911/Xray_ML/blob/main/chest_Xrayipynb.ipynb\" target=\"_parent\"><img src=\"https://colab.research.google.com/assets/colab-badge.svg\" alt=\"Open In Colab\"/></a>"
      ]
    },
    {
      "cell_type": "code",
      "metadata": {
        "id": "n6gDF6sSyoSV"
      },
      "source": [
        "TRAIN_PATH = \"drive/MyDrive/Dataset/Train\"\n",
        "VAL_PATH = \"drive/MyDrive/Dataset/Test\""
      ],
      "execution_count": null,
      "outputs": []
    },
    {
      "cell_type": "code",
      "metadata": {
        "id": "3TqYtH7jdYg_"
      },
      "source": [
        "import numpy as np\n",
        "import pandas as pd\n",
        "import matplotlib.pyplot as plt\n",
        "import keras\n",
        "from keras.layers import *\n",
        "from keras.models import * \n",
        "from keras.preprocessing import image"
      ],
      "execution_count": null,
      "outputs": []
    },
    {
      "cell_type": "code",
      "metadata": {
        "id": "N6roROfreDth"
      },
      "source": [
        "# CNN Based Model in Keras\n",
        "\n",
        "model = Sequential()\n",
        "model.add(Conv2D(32,kernel_size=(3,3),activation='relu',input_shape=(224,224,3)))\n",
        "model.add(Conv2D(64,(3,3),activation='relu'))\n",
        "model.add(MaxPooling2D(pool_size=(2,2)))\n",
        "model.add(Dropout(0.25))\n",
        "\n",
        "model.add(Conv2D(64,(3,3),activation='relu'))\n",
        "model.add(MaxPooling2D(pool_size=(2,2)))\n",
        "model.add(Dropout(0.25))\n",
        "\n",
        "model.add(Conv2D(128,(3,3),activation='relu'))\n",
        "model.add(MaxPooling2D(pool_size=(2,2)))\n",
        "model.add(Dropout(0.25))\n",
        "\n",
        "model.add(Flatten())\n",
        "model.add(Dense(64,activation='relu'))\n",
        "model.add(Dropout(0.5))\n",
        "model.add(Dense(1,activation='sigmoid'))\n",
        "\n",
        "model.compile(loss=keras.losses.binary_crossentropy,optimizer='adam',metrics=['accuracy'])"
      ],
      "execution_count": null,
      "outputs": []
    },
    {
      "cell_type": "code",
      "metadata": {
        "colab": {
          "base_uri": "https://localhost:8080/"
        },
        "id": "SchL5A4efI37",
        "outputId": "98de7ce4-9581-40e7-991e-d744f1c1cb4c"
      },
      "source": [
        "model.summary()"
      ],
      "execution_count": null,
      "outputs": [
        {
          "output_type": "stream",
          "text": [
            "Model: \"sequential\"\n",
            "_________________________________________________________________\n",
            "Layer (type)                 Output Shape              Param #   \n",
            "=================================================================\n",
            "conv2d (Conv2D)              (None, 222, 222, 32)      896       \n",
            "_________________________________________________________________\n",
            "conv2d_1 (Conv2D)            (None, 220, 220, 64)      18496     \n",
            "_________________________________________________________________\n",
            "max_pooling2d (MaxPooling2D) (None, 110, 110, 64)      0         \n",
            "_________________________________________________________________\n",
            "dropout (Dropout)            (None, 110, 110, 64)      0         \n",
            "_________________________________________________________________\n",
            "conv2d_2 (Conv2D)            (None, 108, 108, 64)      36928     \n",
            "_________________________________________________________________\n",
            "max_pooling2d_1 (MaxPooling2 (None, 54, 54, 64)        0         \n",
            "_________________________________________________________________\n",
            "dropout_1 (Dropout)          (None, 54, 54, 64)        0         \n",
            "_________________________________________________________________\n",
            "conv2d_3 (Conv2D)            (None, 52, 52, 128)       73856     \n",
            "_________________________________________________________________\n",
            "max_pooling2d_2 (MaxPooling2 (None, 26, 26, 128)       0         \n",
            "_________________________________________________________________\n",
            "dropout_2 (Dropout)          (None, 26, 26, 128)       0         \n",
            "_________________________________________________________________\n",
            "flatten (Flatten)            (None, 86528)             0         \n",
            "_________________________________________________________________\n",
            "dense (Dense)                (None, 64)                5537856   \n",
            "_________________________________________________________________\n",
            "dropout_3 (Dropout)          (None, 64)                0         \n",
            "_________________________________________________________________\n",
            "dense_1 (Dense)              (None, 1)                 65        \n",
            "=================================================================\n",
            "Total params: 5,668,097\n",
            "Trainable params: 5,668,097\n",
            "Non-trainable params: 0\n",
            "_________________________________________________________________\n"
          ],
          "name": "stdout"
        }
      ]
    },
    {
      "cell_type": "code",
      "metadata": {
        "id": "7OgZYaT1hFyo"
      },
      "source": [
        "# Train from scratch\n",
        "train_datagen = image.ImageDataGenerator(\n",
        "    rescale = 1./255,\n",
        "    shear_range = 0.2,\n",
        "    zoom_range = 0.2,\n",
        "    horizontal_flip = True,\n",
        ")\n",
        "\n",
        "test_dataset = image.ImageDataGenerator(rescale=1./255)"
      ],
      "execution_count": null,
      "outputs": []
    },
    {
      "cell_type": "code",
      "metadata": {
        "colab": {
          "base_uri": "https://localhost:8080/"
        },
        "id": "kFWxnOJOhKP7",
        "outputId": "fdfe82fc-dc91-4ce3-c60f-4eea4779814e"
      },
      "source": [
        "train_generator = train_datagen.flow_from_directory(\n",
        "    'drive/MyDrive/Dataset/Train',\n",
        "    target_size = (224,224),\n",
        "    batch_size = 32,\n",
        "    class_mode = 'binary')\n"
      ],
      "execution_count": null,
      "outputs": [
        {
          "output_type": "stream",
          "text": [
            "Found 312 images belonging to 2 classes.\n"
          ],
          "name": "stdout"
        }
      ]
    },
    {
      "cell_type": "code",
      "metadata": {
        "colab": {
          "base_uri": "https://localhost:8080/"
        },
        "id": "BnM2Kqq0hOSe",
        "outputId": "3f83ef8a-005e-459a-9fa8-1355e6fcbe1d"
      },
      "source": [
        "train_generator.class_indices"
      ],
      "execution_count": null,
      "outputs": [
        {
          "output_type": "execute_result",
          "data": {
            "text/plain": [
              "{'Covid': 0, 'Normal': 1}"
            ]
          },
          "metadata": {
            "tags": []
          },
          "execution_count": 7
        }
      ]
    },
    {
      "cell_type": "code",
      "metadata": {
        "colab": {
          "base_uri": "https://localhost:8080/"
        },
        "id": "bsAKi1wwhY7t",
        "outputId": "f855875d-dcb0-4e06-c930-5c833c9921d8"
      },
      "source": [
        "validation_generator = test_dataset.flow_from_directory(\n",
        "    'drive/MyDrive/Dataset/Test',\n",
        "    target_size = (224,224),\n",
        "    batch_size = 32,\n",
        "    class_mode = 'binary')"
      ],
      "execution_count": null,
      "outputs": [
        {
          "output_type": "stream",
          "text": [
            "Found 80 images belonging to 2 classes.\n"
          ],
          "name": "stdout"
        }
      ]
    },
    {
      "cell_type": "code",
      "metadata": {
        "colab": {
          "base_uri": "https://localhost:8080/"
        },
        "id": "3GTKEPRUheoT",
        "outputId": "789220f8-5ffc-4fe2-9dcb-eae2b5a6fe2c"
      },
      "source": [
        "hist = model.fit_generator(\n",
        "    train_generator,\n",
        "    steps_per_epoch=8,\n",
        "    epochs = 10,\n",
        "    validation_data = validation_generator,\n",
        "    validation_steps=2\n",
        ")"
      ],
      "execution_count": null,
      "outputs": [
        {
          "output_type": "stream",
          "text": [
            "/usr/local/lib/python3.7/dist-packages/keras/engine/training.py:1915: UserWarning: `Model.fit_generator` is deprecated and will be removed in a future version. Please use `Model.fit`, which supports generators.\n",
            "  warnings.warn('`Model.fit_generator` is deprecated and '\n"
          ],
          "name": "stderr"
        },
        {
          "output_type": "stream",
          "text": [
            "Epoch 1/10\n",
            "8/8 [==============================] - 281s 33s/step - loss: 1.7263 - accuracy: 0.4732 - val_loss: 0.6924 - val_accuracy: 0.4844\n",
            "Epoch 2/10\n",
            "8/8 [==============================] - 85s 10s/step - loss: 0.6472 - accuracy: 0.6354 - val_loss: 0.5669 - val_accuracy: 0.7812\n",
            "Epoch 3/10\n",
            "8/8 [==============================] - 83s 10s/step - loss: 0.4785 - accuracy: 0.7559 - val_loss: 0.4611 - val_accuracy: 0.7656\n",
            "Epoch 4/10\n",
            "8/8 [==============================] - 78s 10s/step - loss: 0.3302 - accuracy: 0.8910 - val_loss: 0.1588 - val_accuracy: 0.9688\n",
            "Epoch 5/10\n",
            "8/8 [==============================] - 77s 10s/step - loss: 0.1833 - accuracy: 0.9303 - val_loss: 0.0551 - val_accuracy: 1.0000\n",
            "Epoch 6/10\n",
            "8/8 [==============================] - 73s 9s/step - loss: 0.1810 - accuracy: 0.9445 - val_loss: 0.0251 - val_accuracy: 1.0000\n",
            "Epoch 7/10\n",
            "8/8 [==============================] - 73s 9s/step - loss: 0.1315 - accuracy: 0.9393 - val_loss: 0.0081 - val_accuracy: 1.0000\n",
            "Epoch 8/10\n",
            "8/8 [==============================] - 72s 9s/step - loss: 0.1385 - accuracy: 0.9568 - val_loss: 0.0417 - val_accuracy: 0.9844\n",
            "Epoch 9/10\n",
            "8/8 [==============================] - 78s 10s/step - loss: 0.2080 - accuracy: 0.9172 - val_loss: 0.2106 - val_accuracy: 0.9844\n",
            "Epoch 10/10\n",
            "8/8 [==============================] - 73s 9s/step - loss: 0.2293 - accuracy: 0.9441 - val_loss: 0.0960 - val_accuracy: 1.0000\n"
          ],
          "name": "stdout"
        }
      ]
    },
    {
      "cell_type": "code",
      "metadata": {
        "id": "01JvZMWVhgf1"
      },
      "source": [
        "data = pd.DataFrame(model.history.history)"
      ],
      "execution_count": null,
      "outputs": []
    },
    {
      "cell_type": "code",
      "metadata": {
        "colab": {
          "base_uri": "https://localhost:8080/",
          "height": 204
        },
        "id": "hFqKNlNCoFKk",
        "outputId": "c10cb9ac-7a1a-4157-a195-8671fe0eb7b6"
      },
      "source": [
        "data.head()"
      ],
      "execution_count": null,
      "outputs": [
        {
          "output_type": "execute_result",
          "data": {
            "text/html": [
              "<div>\n",
              "<style scoped>\n",
              "    .dataframe tbody tr th:only-of-type {\n",
              "        vertical-align: middle;\n",
              "    }\n",
              "\n",
              "    .dataframe tbody tr th {\n",
              "        vertical-align: top;\n",
              "    }\n",
              "\n",
              "    .dataframe thead th {\n",
              "        text-align: right;\n",
              "    }\n",
              "</style>\n",
              "<table border=\"1\" class=\"dataframe\">\n",
              "  <thead>\n",
              "    <tr style=\"text-align: right;\">\n",
              "      <th></th>\n",
              "      <th>loss</th>\n",
              "      <th>accuracy</th>\n",
              "      <th>val_loss</th>\n",
              "      <th>val_accuracy</th>\n",
              "    </tr>\n",
              "  </thead>\n",
              "  <tbody>\n",
              "    <tr>\n",
              "      <th>0</th>\n",
              "      <td>1.349754</td>\n",
              "      <td>0.508065</td>\n",
              "      <td>0.692411</td>\n",
              "      <td>0.484375</td>\n",
              "    </tr>\n",
              "    <tr>\n",
              "      <th>1</th>\n",
              "      <td>0.616933</td>\n",
              "      <td>0.673387</td>\n",
              "      <td>0.566911</td>\n",
              "      <td>0.781250</td>\n",
              "    </tr>\n",
              "    <tr>\n",
              "      <th>2</th>\n",
              "      <td>0.460681</td>\n",
              "      <td>0.770161</td>\n",
              "      <td>0.461133</td>\n",
              "      <td>0.765625</td>\n",
              "    </tr>\n",
              "    <tr>\n",
              "      <th>3</th>\n",
              "      <td>0.310780</td>\n",
              "      <td>0.887097</td>\n",
              "      <td>0.158754</td>\n",
              "      <td>0.968750</td>\n",
              "    </tr>\n",
              "    <tr>\n",
              "      <th>4</th>\n",
              "      <td>0.195033</td>\n",
              "      <td>0.921875</td>\n",
              "      <td>0.055132</td>\n",
              "      <td>1.000000</td>\n",
              "    </tr>\n",
              "  </tbody>\n",
              "</table>\n",
              "</div>"
            ],
            "text/plain": [
              "       loss  accuracy  val_loss  val_accuracy\n",
              "0  1.349754  0.508065  0.692411      0.484375\n",
              "1  0.616933  0.673387  0.566911      0.781250\n",
              "2  0.460681  0.770161  0.461133      0.765625\n",
              "3  0.310780  0.887097  0.158754      0.968750\n",
              "4  0.195033  0.921875  0.055132      1.000000"
            ]
          },
          "metadata": {
            "tags": []
          },
          "execution_count": 11
        }
      ]
    },
    {
      "cell_type": "code",
      "metadata": {
        "colab": {
          "base_uri": "https://localhost:8080/",
          "height": 284
        },
        "id": "pyQYbuZDoYih",
        "outputId": "b53027e8-ea87-4c6d-bbcd-251f4a3811b0"
      },
      "source": [
        "plt.plot(data['loss'])\n",
        "plt.plot(data['val_loss'])"
      ],
      "execution_count": null,
      "outputs": [
        {
          "output_type": "execute_result",
          "data": {
            "text/plain": [
              "[<matplotlib.lines.Line2D at 0x7f6a9fea66d0>]"
            ]
          },
          "metadata": {
            "tags": []
          },
          "execution_count": 12
        },
        {
          "output_type": "display_data",
          "data": {
            "image/png": "[encoded data removed]",
            "text/plain": [
              "<Figure size 432x288 with 1 Axes>"
            ]
          },
          "metadata": {
            "tags": [],
            "needs_background": "light"
          }
        }
      ]
    },
    {
      "cell_type": "code",
      "metadata": {
        "colab": {
          "base_uri": "https://localhost:8080/",
          "height": 282
        },
        "id": "tk64gKK5ofrz",
        "outputId": "587d748b-04e0-4de3-dbb2-031a797102f6"
      },
      "source": [
        "plt.plot(data['accuracy'])\n",
        "plt.plot(data['val_accuracy'])"
      ],
      "execution_count": null,
      "outputs": [
        {
          "output_type": "execute_result",
          "data": {
            "text/plain": [
              "[<matplotlib.lines.Line2D at 0x7f6a9fad8ad0>]"
            ]
          },
          "metadata": {
            "tags": []
          },
          "execution_count": 13
        },
        {
          "output_type": "display_data",
          "data": {
            "image/png": "[encoded data removed]",
            "text/plain": [
              "<Figure size 432x288 with 1 Axes>"
            ]
          },
          "metadata": {
            "tags": [],
            "needs_background": "light"
          }
        }
      ]
    },
    {
      "cell_type": "code",
      "metadata": {
        "colab": {
          "base_uri": "https://localhost:8080/"
        },
        "id": "3Z9-I3iIpXnc",
        "outputId": "8bc74c02-51f5-4dd3-e784-679bde1ba249"
      },
      "source": [
        "model.evaluate_generator(validation_generator)"
      ],
      "execution_count": null,
      "outputs": [
        {
          "output_type": "stream",
          "text": [
            "/usr/local/lib/python3.7/dist-packages/keras/engine/training.py:1948: UserWarning: `Model.evaluate_generator` is deprecated and will be removed in a future version. Please use `Model.evaluate`, which supports generators.\n",
            "  warnings.warn('`Model.evaluate_generator` is deprecated and '\n"
          ],
          "name": "stderr"
        },
        {
          "output_type": "execute_result",
          "data": {
            "text/plain": [
              "[0.10335128009319305, 0.987500011920929]"
            ]
          },
          "metadata": {
            "tags": []
          },
          "execution_count": 14
        }
      ]
    },
    {
      "cell_type": "code",
      "metadata": {
        "id": "ptUF1e0Dpx8S"
      },
      "source": [
        "from tensorflow.keras.preprocessing import image"
      ],
      "execution_count": null,
      "outputs": []
    },
    {
      "cell_type": "code",
      "metadata": {
        "colab": {
          "base_uri": "https://localhost:8080/"
        },
        "id": "rXU5AZp3p0p4",
        "outputId": "43160280-8537-49c6-c18b-80fa1e3a3913"
      },
      "source": [
        "pred_probabilities = model.predict_generator(validation_generator)"
      ],
      "execution_count": null,
      "outputs": [
        {
          "output_type": "stream",
          "text": [
            "/usr/local/lib/python3.7/dist-packages/keras/engine/training.py:1976: UserWarning: `Model.predict_generator` is deprecated and will be removed in a future version. Please use `Model.predict`, which supports generators.\n",
            "  warnings.warn('`Model.predict_generator` is deprecated and '\n"
          ],
          "name": "stderr"
        }
      ]
    },
    {
      "cell_type": "code",
      "metadata": {
        "colab": {
          "base_uri": "https://localhost:8080/"
        },
        "id": "-m8O6hDzul4V",
        "outputId": "43520425-5cdd-4474-80b1-ad6200a16834"
      },
      "source": [
        "pred_probabilities"
      ],
      "execution_count": null,
      "outputs": [
        {
          "output_type": "execute_result",
          "data": {
            "text/plain": [
              "array([[1.7006248e-02],\n",
              "       [3.3412576e-02],\n",
              "       [9.6372497e-01],\n",
              "       [9.3056834e-01],\n",
              "       [9.7176582e-01],\n",
              "       [1.6784728e-02],\n",
              "       [9.6077925e-01],\n",
              "       [4.3931127e-02],\n",
              "       [9.4825256e-01],\n",
              "       [8.7981701e-01],\n",
              "       [2.8598547e-02],\n",
              "       [9.1786420e-01],\n",
              "       [9.1338801e-01],\n",
              "       [9.6921360e-01],\n",
              "       [1.0366112e-02],\n",
              "       [3.6769181e-02],\n",
              "       [8.7055999e-01],\n",
              "       [5.3958982e-02],\n",
              "       [9.6954936e-01],\n",
              "       [6.2899113e-02],\n",
              "       [9.7848248e-01],\n",
              "       [1.3709098e-02],\n",
              "       [4.3566823e-02],\n",
              "       [7.7009201e-04],\n",
              "       [5.9941709e-03],\n",
              "       [8.3158267e-01],\n",
              "       [9.9444556e-01],\n",
              "       [4.3784380e-03],\n",
              "       [1.3094604e-02],\n",
              "       [9.1050565e-03],\n",
              "       [1.2173951e-03],\n",
              "       [4.5969486e-03],\n",
              "       [3.4928948e-02],\n",
              "       [9.7630334e-01],\n",
              "       [9.8978508e-01],\n",
              "       [4.9105883e-03],\n",
              "       [5.5001080e-02],\n",
              "       [1.4905512e-02],\n",
              "       [1.1022180e-02],\n",
              "       [7.3186606e-02],\n",
              "       [9.9439645e-01],\n",
              "       [1.9787472e-01],\n",
              "       [9.1775298e-01],\n",
              "       [9.7222936e-01],\n",
              "       [9.6426594e-01],\n",
              "       [9.9373108e-01],\n",
              "       [4.5508146e-03],\n",
              "       [9.3794191e-01],\n",
              "       [9.4455856e-01],\n",
              "       [9.7025818e-01],\n",
              "       [9.3080544e-01],\n",
              "       [9.3125534e-01],\n",
              "       [9.1086924e-03],\n",
              "       [9.9169624e-01],\n",
              "       [8.8285148e-01],\n",
              "       [9.1748023e-01],\n",
              "       [9.1218269e-01],\n",
              "       [2.7889460e-02],\n",
              "       [3.9193332e-03],\n",
              "       [2.3702085e-03],\n",
              "       [9.1178763e-01],\n",
              "       [7.6402771e-01],\n",
              "       [5.1659083e-01],\n",
              "       [8.9565516e-02],\n",
              "       [4.8140436e-02],\n",
              "       [2.0110279e-02],\n",
              "       [9.8302054e-01],\n",
              "       [5.1809251e-03],\n",
              "       [9.9068427e-01],\n",
              "       [9.9188721e-01],\n",
              "       [2.7678907e-03],\n",
              "       [1.8886745e-02],\n",
              "       [5.6289941e-02],\n",
              "       [4.2082518e-02],\n",
              "       [9.9272245e-01],\n",
              "       [1.5987813e-02],\n",
              "       [8.9858413e-01],\n",
              "       [9.8765039e-01],\n",
              "       [2.2923827e-02],\n",
              "       [9.8974669e-01]], dtype=float32)"
            ]
          },
          "metadata": {
            "tags": []
          },
          "execution_count": 32
        }
      ]
    },
    {
      "cell_type": "code",
      "metadata": {
        "id": "e_CwEkrCuyvb"
      },
      "source": [
        "predictions = pred_probabilities > 0.75"
      ],
      "execution_count": null,
      "outputs": []
    },
    {
      "cell_type": "code",
      "metadata": {
        "colab": {
          "base_uri": "https://localhost:8080/"
        },
        "id": "ZKymECKku4jC",
        "outputId": "d3714eaf-0525-4286-88b1-e2a8e7e6494e"
      },
      "source": [
        "predictions"
      ],
      "execution_count": null,
      "outputs": [
        {
          "output_type": "execute_result",
          "data": {
            "text/plain": [
              "array([[False],\n",
              "       [False],\n",
              "       [ True],\n",
              "       [ True],\n",
              "       [ True],\n",
              "       [False],\n",
              "       [ True],\n",
              "       [False],\n",
              "       [ True],\n",
              "       [ True],\n",
              "       [False],\n",
              "       [ True],\n",
              "       [ True],\n",
              "       [ True],\n",
              "       [False],\n",
              "       [False],\n",
              "       [ True],\n",
              "       [False],\n",
              "       [ True],\n",
              "       [False],\n",
              "       [ True],\n",
              "       [False],\n",
              "       [False],\n",
              "       [False],\n",
              "       [False],\n",
              "       [ True],\n",
              "       [ True],\n",
              "       [False],\n",
              "       [False],\n",
              "       [False],\n",
              "       [False],\n",
              "       [False],\n",
              "       [False],\n",
              "       [ True],\n",
              "       [ True],\n",
              "       [False],\n",
              "       [False],\n",
              "       [False],\n",
              "       [False],\n",
              "       [False],\n",
              "       [ True],\n",
              "       [False],\n",
              "       [ True],\n",
              "       [ True],\n",
              "       [ True],\n",
              "       [ True],\n",
              "       [False],\n",
              "       [ True],\n",
              "       [ True],\n",
              "       [ True],\n",
              "       [ True],\n",
              "       [ True],\n",
              "       [False],\n",
              "       [ True],\n",
              "       [ True],\n",
              "       [ True],\n",
              "       [ True],\n",
              "       [False],\n",
              "       [False],\n",
              "       [False],\n",
              "       [ True],\n",
              "       [ True],\n",
              "       [False],\n",
              "       [False],\n",
              "       [False],\n",
              "       [False],\n",
              "       [ True],\n",
              "       [False],\n",
              "       [ True],\n",
              "       [ True],\n",
              "       [False],\n",
              "       [False],\n",
              "       [False],\n",
              "       [False],\n",
              "       [ True],\n",
              "       [False],\n",
              "       [ True],\n",
              "       [ True],\n",
              "       [False],\n",
              "       [ True]])"
            ]
          },
          "metadata": {
            "tags": []
          },
          "execution_count": 67
        }
      ]
    },
    {
      "cell_type": "code",
      "metadata": {
        "id": "TFlgq784u8ib"
      },
      "source": [
        "from sklearn.metrics import classification_report,confusion_matrix"
      ],
      "execution_count": null,
      "outputs": []
    },
    {
      "cell_type": "code",
      "metadata": {
        "colab": {
          "base_uri": "https://localhost:8080/"
        },
        "id": "U4CLIHtGu_-f",
        "outputId": "56a53eb3-3dca-4028-e602-3c178c3d4074"
      },
      "source": [
        "print(classification_report(validation_generator.classes,predictions))"
      ],
      "execution_count": null,
      "outputs": [
        {
          "output_type": "stream",
          "text": [
            "              precision    recall  f1-score   support\n",
            "\n",
            "           0       0.59      0.60      0.59        40\n",
            "           1       0.59      0.57      0.58        40\n",
            "\n",
            "    accuracy                           0.59        80\n",
            "   macro avg       0.59      0.59      0.59        80\n",
            "weighted avg       0.59      0.59      0.59        80\n",
            "\n"
          ],
          "name": "stdout"
        }
      ]
    },
    {
      "cell_type": "code",
      "metadata": {
        "id": "_LfCwy9CvETq"
      },
      "source": [
        "model.save('covid_detector_model.h5')"
      ],
      "execution_count": null,
      "outputs": []
    },
    {
      "cell_type": "code",
      "metadata": {
        "id": "Kxhm_qro6UjD"
      },
      "source": [
        ""
      ],
      "execution_count": null,
      "outputs": []
    }
  ]
}